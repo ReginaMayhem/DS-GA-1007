{
 "cells": [
  {
   "cell_type": "markdown",
   "metadata": {},
   "source": [
    "   # <span style=\"color:blue\">Programming for Data Science - DS-GA 1007</span>\n",
    "   ## <span style=\"color:blue\">Lecture 3: Python basics</span>\n",
    "   ---"
   ]
  },
  {
   "cell_type": "markdown",
   "metadata": {},
   "source": [
    "__Content:__\n",
    "- Variables and Assignments\n",
    "- Indentation\n",
    "- Data Types\n",
    "- Slicing\n",
    "- Reference and Copying\n",
    "- Dictionaries\n",
    "- Conditional and Loop statements\n",
    "- Functions\n",
    "- Modules"
   ]
  },
  {
   "cell_type": "markdown",
   "metadata": {},
   "source": [
    "## What is Python?\n",
    "Python is a dynamic, interpreted language. In other words, many tasks are performed at runtime and a code is executed directly rather than being compiled.\n",
    " \n",
    "Python is also:\n",
    "- _Imperative_: programs comprise a sequence of statements\n",
    "- _Object Oriented_: thus it allows a class model for manipulating objects\n",
    "- _Procedural_: code can be grouped into units called functions\n",
    "- _Functional Programming_: Python nativally supports first class function objects, anonymous lambdas, comprehensions, and generators."
   ]
  },
  {
   "cell_type": "markdown",
   "metadata": {},
   "source": [
    "## Assignments and Variables\n",
    "Variable assignments are done directly, there is no need to declare variables types. Python works out the type of the variable when needed (no primitive types like in Java or C++)."
   ]
  },
  {
   "cell_type": "code",
   "execution_count": 1,
   "metadata": {},
   "outputs": [
    {
     "name": "stdout",
     "output_type": "stream",
     "text": [
      "<class 'int'> x =  37\n",
      "<class 'str'> y =  Hello World\n",
      "<class 'float'> z =  5.45\n"
     ]
    }
   ],
   "source": [
    "# this is a comment\n",
    "x = 36            # initialize x\n",
    "y = \"Hello\"       # Initialize y\n",
    "z = 3.45          # Initialize z\n",
    "\n",
    "x = x + 1\n",
    "y = y + \" World\" # String concatenation\n",
    "z = 2 + z\n",
    "    \n",
    "# printing the results\n",
    "print(type(x),'x = ',x)\n",
    "print(type(y),'y = ',y)\n",
    "print(type(z),'z = ',z)"
   ]
  },
  {
   "cell_type": "markdown",
   "metadata": {},
   "source": [
    "- The assignment creates and initializes the variables\n",
    "- Comparison is performed using conventional operators $<$, $>$, $==$, $!\\!=$, ...\n",
    "- Logical operators are <span style=\"color:blue\">_and_, _or_, _not_</span>\n",
    "- Strings also support the ''aritmetic'' operators <span style=\"color:blue\">+</span> and  <span style=\"color:blue\">*</span>"
   ]
  },
  {
   "cell_type": "code",
   "execution_count": 6,
   "metadata": {},
   "outputs": [
    {
     "name": "stdout",
     "output_type": "stream",
     "text": [
      "Hello World \n",
      "Hello World Hello World \n"
     ]
    }
   ],
   "source": [
    "y = \"Hello\"\n",
    "y = y + \" World \"\n",
    "print(y)\n",
    "w = 2*y\n",
    "print(w)"
   ]
  },
  {
   "cell_type": "markdown",
   "metadata": {},
   "source": [
    "__Important:__\n",
    "- Assignment creates references, not copies\n",
    "- A “variable” is just a name that holds a reference to an object in Python\n",
    "- If you try to access a variable before it has been properly created, you’ll get an error\n",
    "- You can assign multiple variables at the same time\n",
    "```python\n",
    "x, y = 2, 3\n",
    "```"
   ]
  },
  {
   "cell_type": "markdown",
   "metadata": {},
   "source": [
    "### Naming variables\n",
    "- Names are case sensitive\n",
    "- Names cannot start with a number\n",
    "- Can contain letters, numbers, and underscores\n",
    "```\n",
    "\tbob   Bob   _bob   _2_bob_   bob_2    Bob\n",
    "```\n",
    "- There are some reserved words\n",
    "\n",
    "<span style=\"color:blue\">and, assert, break, class, continue, def, del, elif, else, except, exec, finally, for, from, global, if, import, in, is, lambda, not, or, pass, print, raise, return, try, while</span>"
   ]
  },
  {
   "cell_type": "markdown",
   "metadata": {},
   "source": [
    "## Indentation\n",
    "Indentation denotes blocks of code under clauses such as _if_, _for_, _def_, ...\n",
    "```python\n",
    "if z == 3.45 or y == \"Hello\":\n",
    "    x = x + 1\n",
    "    y = y + \" World\"\n",
    "```\n",
    "Indentation is mandatory and should be carefully handled.\n",
    "\n",
    "Lines at the same level of indentation form a block."
   ]
  },
  {
   "cell_type": "markdown",
   "metadata": {},
   "source": [
    "# Basic Data types\n",
    "<span style=\"color:blue\">Integer</span>\n",
    "- Ex. 42, int(4/3)\n",
    "\n",
    "<span style=\"color:blue\">Floating point</span>\n",
    "- Ex. 3.14, 3.14e-10, .0001, 4.\n",
    "\n",
    "<span style=\"color:blue\">Complex numbers</span>\n",
    "- Ex. 3j, 4+5j\n",
    "\n",
    "<span style=\"color:blue\">Boolean</span>\n",
    "- Ex. True, False\n",
    "\n",
    "__PS.__ Python provides built-in functions for converting between types"
   ]
  },
  {
   "cell_type": "markdown",
   "metadata": {},
   "source": [
    "An assignment like \n",
    "```python\n",
    "x = 3.4\n",
    "```\n",
    "is a way of giving a name to an object (called a binding).\n",
    "- all data types in Python are represented by objects\n",
    "- Variables in Python do not have an intrinsic type, objects have types\n",
    "- Objects have an identity (think address in memory), a type, and a value\n",
    "- Python determines the type of the variable automatically based on the object referenced by it\n",
    "- An object’s identity and type cannot change\n",
    "- An object’s value may be able to change"
   ]
  },
  {
   "cell_type": "markdown",
   "metadata": {},
   "source": [
    "## Sequence Types\n",
    "<span style=\"color:blue\">Tuple</span>\n",
    "- A simple ordered sequence of items\n",
    "- Elements can be of mixed types, including sequence types\n",
    "- Elements __cannot__ be modified\n",
    "\n",
    "<span style=\"color:blue\">List</span>\n",
    "- Ordered sequence of items of mixed types\n",
    "- Elements can be modified, added, removed, etc.\n",
    "\n",
    "<span style=\"color:blue\">String</span>\n",
    "- Conceptually very much like a tuple\n",
    "- Elements are restricted to characters only\n",
    "\n",
    "__PS.__ _Tuples_ and _strings_ are immutable (fixed), _Lists_ are mutable (changable)\n",
    "\n",
    "Elements of _tuple_, _list_, and _string_ can be accessed using brackets [ ]. The index of _tuples_, _list_, and _strings_ with $n$ elements ranges from $0$ to $n-1$."
   ]
  },
  {
   "cell_type": "code",
   "execution_count": 8,
   "metadata": {},
   "outputs": [
    {
     "name": "stdout",
     "output_type": "stream",
     "text": [
      "23\n",
      "abc\n",
      "4.56\n",
      "(2, 3)\n"
     ]
    },
    {
     "ename": "TypeError",
     "evalue": "'tuple' object does not support item assignment",
     "output_type": "error",
     "traceback": [
      "\u001b[0;31m---------------------------------------------------------------------------\u001b[0m",
      "\u001b[0;31mTypeError\u001b[0m                                 Traceback (most recent call last)",
      "\u001b[0;32m<ipython-input-8-3cf817d6833e>\u001b[0m in \u001b[0;36m<module>\u001b[0;34m()\u001b[0m\n\u001b[1;32m      5\u001b[0m \u001b[0mprint\u001b[0m\u001b[0;34m(\u001b[0m\u001b[0mt\u001b[0m\u001b[0;34m[\u001b[0m\u001b[0;36m2\u001b[0m\u001b[0;34m]\u001b[0m\u001b[0;34m)\u001b[0m\u001b[0;34m\u001b[0m\u001b[0m\n\u001b[1;32m      6\u001b[0m \u001b[0mprint\u001b[0m\u001b[0;34m(\u001b[0m\u001b[0mt\u001b[0m\u001b[0;34m[\u001b[0m\u001b[0;36m3\u001b[0m\u001b[0;34m]\u001b[0m\u001b[0;34m)\u001b[0m\u001b[0;34m\u001b[0m\u001b[0m\n\u001b[0;32m----> 7\u001b[0;31m \u001b[0mt\u001b[0m\u001b[0;34m[\u001b[0m\u001b[0;36m2\u001b[0m\u001b[0;34m]\u001b[0m\u001b[0;34m=\u001b[0m\u001b[0;36m1\u001b[0m\u001b[0;34m\u001b[0m\u001b[0m\n\u001b[0m",
      "\u001b[0;31mTypeError\u001b[0m: 'tuple' object does not support item assignment"
     ]
    }
   ],
   "source": [
    "t = (23, 'abc', 4.56, (2,3))  # this is a tuple, must be defined \n",
    "                              # using parenthesis ()\n",
    "print(t[0])\n",
    "print(t[1])\n",
    "print(t[2])\n",
    "print(t[3]) "
   ]
  },
  {
   "cell_type": "code",
   "execution_count": null,
   "metadata": {},
   "outputs": [],
   "source": [
    "#since tuples are immutable, item assignment are not supported\n",
    "t[2]=1 "
   ]
  },
  {
   "cell_type": "code",
   "execution_count": 14,
   "metadata": {},
   "outputs": [
    {
     "name": "stdout",
     "output_type": "stream",
     "text": [
      "['abc', 34, 4.34, 23]\n",
      "abc\n",
      "34\n",
      "4.34\n",
      "23\n"
     ]
    }
   ],
   "source": [
    "l = [\"abc\", 34, 4.34, 23]   # Lists are defined using square brackets\n",
    "print(l)\n",
    "print(l[0])\n",
    "print(l[1])\n",
    "print(l[2])\n",
    "print(l[3])"
   ]
  },
  {
   "cell_type": "code",
   "execution_count": 15,
   "metadata": {},
   "outputs": [
    {
     "name": "stdout",
     "output_type": "stream",
     "text": [
      "['abc', 'I changed', 4.34, 23]\n"
     ]
    }
   ],
   "source": [
    "# lists are mutable, items can be changed\n",
    "l[1] = \"I changed\"\n",
    "print(l)"
   ]
  },
  {
   "cell_type": "code",
   "execution_count": 17,
   "metadata": {},
   "outputs": [
    {
     "name": "stdout",
     "output_type": "stream",
     "text": [
      "t\n",
      "h\n",
      "i\n",
      "s\n"
     ]
    },
    {
     "ename": "TypeError",
     "evalue": "'str' object does not support item assignment",
     "output_type": "error",
     "traceback": [
      "\u001b[0;31m---------------------------------------------------------------------------\u001b[0m",
      "\u001b[0;31mTypeError\u001b[0m                                 Traceback (most recent call last)",
      "\u001b[0;32m<ipython-input-17-3120bf693779>\u001b[0m in \u001b[0;36m<module>\u001b[0;34m()\u001b[0m\n\u001b[1;32m      4\u001b[0m \u001b[0mprint\u001b[0m\u001b[0;34m(\u001b[0m\u001b[0ms\u001b[0m\u001b[0;34m[\u001b[0m\u001b[0;36m2\u001b[0m\u001b[0;34m]\u001b[0m\u001b[0;34m)\u001b[0m\u001b[0;34m\u001b[0m\u001b[0m\n\u001b[1;32m      5\u001b[0m \u001b[0mprint\u001b[0m\u001b[0;34m(\u001b[0m\u001b[0ms\u001b[0m\u001b[0;34m[\u001b[0m\u001b[0;36m3\u001b[0m\u001b[0;34m]\u001b[0m\u001b[0;34m)\u001b[0m\u001b[0;34m\u001b[0m\u001b[0m\n\u001b[0;32m----> 6\u001b[0;31m \u001b[0ms\u001b[0m\u001b[0;34m[\u001b[0m\u001b[0;36m3\u001b[0m\u001b[0;34m]\u001b[0m\u001b[0;34m=\u001b[0m\u001b[0;34m'H'\u001b[0m\u001b[0;34m\u001b[0m\u001b[0m\n\u001b[0m",
      "\u001b[0;31mTypeError\u001b[0m: 'str' object does not support item assignment"
     ]
    }
   ],
   "source": [
    "s = \"this is a string\"  # Strings are defined using single or double quotes\n",
    "print(s[0])\n",
    "print(s[1])\n",
    "print(s[2])\n",
    "print(s[3])"
   ]
  },
  {
   "cell_type": "code",
   "execution_count": 16,
   "metadata": {},
   "outputs": [
    {
     "name": "stdout",
     "output_type": "stream",
     "text": [
      "['abc', 'I changed', 4.34, 23]\n",
      "23\n",
      "4.34\n",
      "I changed\n"
     ]
    }
   ],
   "source": [
    "# The index of the elements can be positive or negative (go backwards)\n",
    "print(l)\n",
    "print(l[-1])\n",
    "print(l[-2])\n",
    "print(l[-3])"
   ]
  },
  {
   "cell_type": "markdown",
   "metadata": {},
   "source": [
    "## Slicing\n",
    "Slicing allows to access a subset of the original sequence."
   ]
  },
  {
   "cell_type": "code",
   "execution_count": 27,
   "metadata": {},
   "outputs": [
    {
     "name": "stdout",
     "output_type": "stream",
     "text": [
      "['abc', 'I changed', 4.34, 23]\n",
      "['abc', 'I changed']\n",
      "[4.34, 23]\n",
      "['I changed', 4.34, 23]\n",
      "['abc', 'I changed', 4.34]\n",
      "['abc', 'I changed', 4.34]\n"
     ]
    }
   ],
   "source": [
    "print(l)\n",
    "print(l[0:2])  # gets elements l[0],l[1] \n",
    "print(l[2:])   # gets elements from l[2] on\n",
    "print(l[1:4])  # gets element l[1],l[2],l[3] \n",
    "print(l[:3])   # gets element l[0],l[1],l[2]\n",
    "print(l[:-1])  # gets all elements from t except the last one\n",
    "print(l[::-1]) # gets all elements in reverse order"
   ]
  },
  {
   "cell_type": "markdown",
   "metadata": {},
   "source": [
    "## Copying\n",
    "Python tries to use references as much as possible. If you want to make a copy\n",
    "you should explicitely do it using [:]."
   ]
  },
  {
   "cell_type": "code",
   "execution_count": 34,
   "metadata": {},
   "outputs": [
    {
     "name": "stdout",
     "output_type": "stream",
     "text": [
      "l =  ['abc', 34, 4.34, 23]\n",
      "l1 =  ['abc', 34, 4.34, 23]\n",
      "l2 =  ['abc', 34, 4.34, 23]\n",
      "-----\n",
      "l =  ['abc', 34, 'item 2 changed', 23]\n",
      "l1 =  ['abc', 34, 'item 2 changed', 23]\n",
      "l2 =  ['abc', 34, 4.34, 23]\n",
      "-----\n",
      "l =  ['abc', 34, 'item 2 changed', 'item 3 changed']\n",
      "l1 =  ['abc', 34, 'item 2 changed', 'item 3 changed']\n",
      "l2 =  ['abc', 34, 4.34, 23]\n"
     ]
    }
   ],
   "source": [
    "l = [\"abc\", 34, 4.34, 23]\n",
    "l1 = l     # l1 is a reference to l\n",
    "l2 = l[:]  # l2 is a copy of l\n",
    "\n",
    "print('l = ',l)\n",
    "print('l1 = ',l1)\n",
    "print('l2 = ',l2)\n",
    "\n",
    "l[2] = 'item 2 changed'\n",
    "\n",
    "print(5*'-')\n",
    "\n",
    "print('l = ',l)\n",
    "print('l1 = ',l1)\n",
    "print('l2 = ',l2)  # have not changed\n",
    "\n",
    "l1[3] = 'item 3 changed'\n",
    "\n",
    "print(5*'-')\n",
    "\n",
    "print('l = ',l)\n",
    "print('l1 = ',l1)\n",
    "print('l2 = ',l2)  # have not changed"
   ]
  },
  {
   "cell_type": "markdown",
   "metadata": {},
   "source": [
    "# Dictionaries\n",
    "Dictionaries store a unordered mapping between a set of keys and a set of values\n",
    "- Keys can be any immutable type\n",
    "- Values can be any type\n",
    "\n",
    "A single dictionary can store values of different types\n",
    "\n",
    "You can define, modify, view, look up, and delete the key-value pairs in the dictionary\n",
    "\n",
    "Dictionaries are created using braces, ‘{’ and ‘}’ by specifying the key and value. The key is the index to access the value."
   ]
  },
  {
   "cell_type": "code",
   "execution_count": 35,
   "metadata": {},
   "outputs": [
    {
     "name": "stdout",
     "output_type": "stream",
     "text": [
      "{'k1': 3.0, 'k2': 27, 'key3': 'the value of key3'}\n",
      "27\n",
      "the value of key3\n"
     ]
    }
   ],
   "source": [
    "d = {'k1':3.0,'k2':27,'key3':'the value of key3'}\n",
    "print(d)\n",
    "print(d['k2'])\n",
    "print(d['key3'])"
   ]
  },
  {
   "cell_type": "code",
   "execution_count": 36,
   "metadata": {},
   "outputs": [
    {
     "name": "stdout",
     "output_type": "stream",
     "text": [
      "------  new element\n",
      "{'k1': 3.0, 'k2': 27, 'key3': 'the value of key3', 'new_key': 13}\n",
      "------  removing element k1\n",
      "{'k2': 27, 'key3': 'the value of key3', 'new_key': 13}\n"
     ]
    }
   ],
   "source": [
    "# new key,value pairs can be added\n",
    "print(3*'--',' new element')\n",
    "d['new_key'] = 13\n",
    "print(d)\n",
    "\n",
    "\n",
    "# key,value pairs can be deleted using 'del'\n",
    "print(3*'--',' removing element k1')\n",
    "del d['k1']\n",
    "print(d)"
   ]
  },
  {
   "cell_type": "code",
   "execution_count": 37,
   "metadata": {},
   "outputs": [
    {
     "name": "stdout",
     "output_type": "stream",
     "text": [
      "------  getting existing keys in the dictionary\n",
      "dict_keys(['k2', 'key3', 'new_key'])\n",
      "------  getting existing values in the dictionary\n",
      "dict_values([27, 'the value of key3', 13])\n",
      "------  getting existing pairs in the dictionary\n",
      "dict_items([('k2', 27), ('key3', 'the value of key3'), ('new_key', 13)])\n"
     ]
    }
   ],
   "source": [
    "# you can get all existing keys using d.keys()\n",
    "print(3*'--',' getting existing keys in the dictionary')\n",
    "print(d.keys())\n",
    "\n",
    "# you can get all existing values using d.values()\n",
    "print(3*'--',' getting existing values in the dictionary')\n",
    "print(d.values())\n",
    "\n",
    "# you can get all existing key,value pairs using d.items()\n",
    "print(3*'--',' getting existing pairs in the dictionary')\n",
    "print(d.items())"
   ]
  },
  {
   "cell_type": "markdown",
   "metadata": {},
   "source": [
    "# Functions\n",
    "- A function is a name section of code that performs a specific purpose\n",
    "- Primary mechanism for program modularity\n",
    "- Provides the ability to easily reuse code\n",
    "\n",
    "A function consists of:\n",
    "- A name: used to execute (or call) the function\n",
    "- A list of parameters: used to pass data into the function \n",
    "- A code block: containing the code to be executed\n",
    "- One or more return statements: to return a result back to the caller\n",
    "\n",
    "A function is created using a <span style=\"color:blue\">_def_</span> statement\n",
    "- Parameter and return types are not declared\n",
    "- Indentation is mandatory as well as the \":\" at the end of the function statement"
   ]
  },
  {
   "cell_type": "code",
   "execution_count": 21,
   "metadata": {},
   "outputs": [
    {
     "name": "stdout",
     "output_type": "stream",
     "text": [
      "10\n",
      "I am a python coder\n"
     ]
    }
   ],
   "source": [
    "# using a function to sum to variables\n",
    "\n",
    "def soma(x,y):\n",
    "    s = x+y\n",
    "    return(s)\n",
    "\n",
    "a = 3\n",
    "b = 7\n",
    "print(soma(a,b))\n",
    "\n",
    "c = \"I am\"\n",
    "d = \" a python coder\"\n",
    "print(soma(c,d))"
   ]
  },
  {
   "cell_type": "code",
   "execution_count": 38,
   "metadata": {},
   "outputs": [
    {
     "name": "stdout",
     "output_type": "stream",
     "text": [
      "4\n",
      "8\n",
      "*-%\n",
      "*-%*-%*-%\n"
     ]
    }
   ],
   "source": [
    "# Can define optional (default) parameters\n",
    "\n",
    "def multiply(a,b=1):\n",
    "    m = b*a\n",
    "    return(m)\n",
    "\n",
    "i = 4\n",
    "print(multiply(i))\n",
    "print(multiply(i,2))\n",
    "j = '*-%'\n",
    "print(multiply(j))\n",
    "print(multiply(j,3))"
   ]
  },
  {
   "cell_type": "markdown",
   "metadata": {},
   "source": [
    "- All functions in Python have a return value\n",
    "   - Even if no return statement is used\n",
    "   - Functions without a return statement result in the special value <span style=\"color:blue\">_None_</span>\n",
    "- There is no function overloading in Python\n",
    "   - Two different functions can’t have the same name\n",
    "- Functions are objects that can be used as any other data type\n",
    "   - Arguments to a function\n",
    "   - Return values of functions\n",
    "   - Assigned to variables\n",
    "   - Parts of tuples, lists, etc."
   ]
  },
  {
   "cell_type": "markdown",
   "metadata": {},
   "source": [
    "# Scope\n",
    "Assignments in the main body of a code create global variables\n",
    "- Global variables can be accessed from anywhere in the code\n",
    "\n",
    "Assignments inside a function body create a variable that is local to the function\n",
    "- Local variables are created when the function starts and are removed when the function ends "
   ]
  },
  {
   "cell_type": "code",
   "execution_count": 39,
   "metadata": {},
   "outputs": [
    {
     "name": "stdout",
     "output_type": "stream",
     "text": [
      "Fred\n",
      "Jane\n",
      "Fred\n"
     ]
    }
   ],
   "source": [
    "x = 'Fred'   # globa x\n",
    "\n",
    "def func():\n",
    "    x = 'Jane'     # local x\n",
    "    print(x)\n",
    "    \n",
    "print(x)\n",
    "func()\n",
    "\n",
    "print(x)"
   ]
  },
  {
   "cell_type": "markdown",
   "metadata": {},
   "source": [
    "# Conditional and Loop statements\n",
    "\n",
    "## 'if' statement\n",
    "_if_ is the main statement to conditioning the flow of execution\n",
    "\n",
    "- indentation to define the block of code under the _if_ and the ':' at the end of the _if_ statement are mandatory"
   ]
  },
  {
   "cell_type": "code",
   "execution_count": 40,
   "metadata": {},
   "outputs": [
    {
     "name": "stdout",
     "output_type": "stream",
     "text": [
      "X equals 3\n",
      "This is outside the 'if'\n",
      "\n",
      "X equals 2\n",
      "This is outside the 'if'\n",
      "\n",
      "X equals something else\n",
      "This is outside the 'if'\n",
      "\n"
     ]
    }
   ],
   "source": [
    "def conditioning_x(x):\n",
    "    if x == 3:\n",
    "        print(\"X equals 3\")\n",
    "    elif x == 2:\n",
    "        print(\"X equals 2\")\n",
    "    else:\n",
    "        print(\"X equals something else\")\n",
    "\n",
    "    print(\"This is outside the 'if'\\n\")\n",
    "              \n",
    "conditioning_x(3)\n",
    "conditioning_x(2)\n",
    "conditioning_x(0)"
   ]
  },
  {
   "cell_type": "markdown",
   "metadata": {},
   "source": [
    "- Python supports ternary _if_ statements"
   ]
  },
  {
   "cell_type": "code",
   "execution_count": 42,
   "metadata": {},
   "outputs": [
    {
     "name": "stdout",
     "output_type": "stream",
     "text": [
      "three\n",
      "three\n"
     ]
    }
   ],
   "source": [
    "# Ternary 'if' Statement\n",
    "x = 3\n",
    "\n",
    "# the following code\n",
    "if x == 3:\n",
    "    y = 'three'\n",
    "else:\n",
    "    y = 'other thing'\n",
    "    \n",
    "print(y)\n",
    "# is equivalent to\n",
    "\n",
    "y = 'three' if x == 3 else 'other thing'\n",
    "print(y)"
   ]
  },
  {
   "cell_type": "markdown",
   "metadata": {},
   "source": [
    "## 'for' statement\n",
    "The _for_ loop is a generic iterator in Python with the following structure:\n",
    "```python\n",
    "for var in sequence:\n",
    "\tstatements\n",
    "```\n",
    "The _for_ can step through any sequence, such as a string, list, tuple, etc.\n",
    "- items in the object are assigned to _var_ one by one\n",
    "- If the elements in _sequence_ are also a sequence, _var_ can be stated to get the elements\n",
    "```python\n",
    "for (key,value) in dict.items():\n",
    "     print(key, '->', value)\n",
    "```"
   ]
  },
  {
   "cell_type": "code",
   "execution_count": 8,
   "metadata": {},
   "outputs": [
    {
     "name": "stdout",
     "output_type": "stream",
     "text": [
      "0\n",
      "1\n",
      "3\n",
      "4\n",
      "5\n",
      "6\n"
     ]
    }
   ],
   "source": [
    "my_list = [0,1,2,3,4,5,6,7,8,9]\n",
    "count = 1\n",
    "\n",
    "for val in my_list:\n",
    "    if val == 7:\n",
    "        break    # break the loop\n",
    "    elif val == 2:\n",
    "        continue  # jump without executing the rest of the code body within the for\n",
    "    print(val)"
   ]
  },
  {
   "cell_type": "markdown",
   "metadata": {},
   "source": [
    "## 'while' statement\n",
    "The _while_ loop has the following structure:\n",
    "```python\n",
    "while test:\n",
    "\tstatements\n",
    "else:\n",
    "\tother statements\n",
    "```\n",
    "__PS__. The else block is executed if the loop finishes without a break statement."
   ]
  },
  {
   "cell_type": "markdown",
   "metadata": {},
   "source": [
    "# Modules\n",
    "- Modules are functions, classes, and variables defined in separate files.\n",
    "- Every file contain Python code and ending in .py is a module\n",
    "- There are many predefined modules that perform all sorts of useful operations"
   ]
  },
  {
   "cell_type": "markdown",
   "metadata": {},
   "source": [
    "## 'import' statement\n",
    "- The _import_ statement loads everything from a module into the current code.\n",
    "- The module is run once, regardless of the number of times it is imported\n",
    "\n",
    "## 'from' statement\n",
    "- The _from_ statement allows individual attributes to be imported into the current module\n",
    "- It does not import the whole module, only the specific attribute you specify\n",
    "- See [this link](https://docs.python.org/3/library/index.html) for a list of standard libraries (modules)"
   ]
  },
  {
   "cell_type": "code",
   "execution_count": 46,
   "metadata": {},
   "outputs": [
    {
     "name": "stdout",
     "output_type": "stream",
     "text": [
      "1.0\n"
     ]
    },
    {
     "data": {
      "image/png": "[encoded data removed]",
      "text/plain": [
       "<matplotlib.figure.Figure at 0x10c591ac8>"
      ]
     },
     "metadata": {},
     "output_type": "display_data"
    },
    {
     "name": "stdout",
     "output_type": "stream",
     "text": [
      "0.9411777621251677\n"
     ]
    }
   ],
   "source": [
    "import math\n",
    "print(math.exp(0))\n",
    "\n",
    "from matplotlib import pyplot\n",
    "pyplot.plot([0, 1],[0,1])\n",
    "pyplot.show()\n",
    "\n",
    "import random\n",
    "print(random.random())"
   ]
  }
 ],
 "metadata": {
  "kernelspec": {
   "display_name": "Python 3",
   "language": "python",
   "name": "python3"
  },
  "language_info": {
   "codemirror_mode": {
    "name": "ipython",
    "version": 3
   },
   "file_extension": ".py",
   "mimetype": "text/x-python",
   "name": "python",
   "nbconvert_exporter": "python",
   "pygments_lexer": "ipython3",
   "version": "3.6.1"
  }
 },
 "nbformat": 4,
 "nbformat_minor": 2
}
